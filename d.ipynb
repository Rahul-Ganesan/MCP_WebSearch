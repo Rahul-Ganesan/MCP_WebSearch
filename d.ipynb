{
 "cells": [
  {
   "cell_type": "code",
   "execution_count": 1,
   "id": "defcd822",
   "metadata": {},
   "outputs": [
    {
     "name": "stdout",
     "output_type": "stream",
     "text": [
      "ChatCompletionMessage(content='The capital of France is Paris.', refusal=None, role='assistant', annotations=[], audio=None, function_call=None, tool_calls=None)\n"
     ]
    }
   ],
   "source": [
    "from openai import OpenAI\n",
    "\n",
    "endpoint = \"https://ai-eswardivi4164ai412179177256.openai.azure.com/openai/v1/\"\n",
    "model_name = \"gpt-4o-mini\"\n",
    "deployment_name = \"gpt-4o-mini-pranav\"\n",
    "\n",
    "api_key = \"7RDikvgsT6AhVjlfv30VpRSWzIlELsJWcO7rIPHS2S5NRzawE7NQJQQJ99BEACHYHv6XJ3w3AAAAACOGmvhq\"\n",
    "\n",
    "client = OpenAI(\n",
    "    base_url=f\"{endpoint}\",\n",
    "    api_key=api_key\n",
    ")\n",
    "\n",
    "completion = client.chat.completions.create(\n",
    "    model=deployment_name,\n",
    "    messages=[\n",
    "        {\n",
    "            \"role\": \"user\",\n",
    "            \"content\": \"What is the capital of France?\",\n",
    "        }\n",
    "    ],\n",
    ")\n",
    "\n",
    "print(completion.choices[0].message)"
   ]
  },
  {
   "cell_type": "code",
   "execution_count": 4,
   "id": "62e2fc07",
   "metadata": {},
   "outputs": [],
   "source": [
    "from mcp.server.fastmcp import FastMCP\n",
    "from tavily import TavilyClient\n",
    "from dotenv import load_dotenv\n",
    "import os, json\n",
    "\n",
    "load_dotenv()  # this will read .env into environment variables\n",
    "\n",
    "Tavily_key = os.getenv(\"TAVILY_API_KEY\")\n",
    "\n",
    "query = \"Who is Yuvan?\"\n",
    "\n",
    "tavily_client = TavilyClient(api_key=Tavily_key)\n",
    "response = tavily_client.search(query=query, num_results=2)\n"
   ]
  },
  {
   "cell_type": "code",
   "execution_count": 10,
   "id": "d314339e",
   "metadata": {},
   "outputs": [
    {
     "data": {
      "text/plain": [
       "{'query': 'Who is Yuvan?',\n",
       " 'follow_up_questions': None,\n",
       " 'answer': None,\n",
       " 'images': [],\n",
       " 'results': [{'url': 'https://en.wikipedia.org/wiki/Yuvan_(actor)',\n",
       "   'title': 'Yuvan (actor) - Wikipedia',\n",
       "   'content': 'Yuvan Firose Khan is an Indian actor, who has appeared in Tamil language films. The son of director Feroze Khan, he made a breakthrough appearing in M.',\n",
       "   'score': 0.92491204,\n",
       "   'raw_content': None},\n",
       "  {'url': 'https://en.wikipedia.org/wiki/Yuvan_Shankar_Raja',\n",
       "   'title': 'Yuvan Shankar Raja - Wikipedia',\n",
       "   'content': 'Abdul Haliq (born 31 August 1979), known professionally as, Yuvan Shankar Raja, is an Indian composer and playback singer. He mainly scores music for Tamil',\n",
       "   'score': 0.86954874,\n",
       "   'raw_content': None},\n",
       "  {'url': 'https://vocal.media/fyi/inside-yuvan-shankar-raja-s-studio-crafting-modern-tamil-hits',\n",
       "   'title': \"Inside Yuvan Shankar Raja's Studio: Crafting Modern Tamil Hits | FYI\",\n",
       "   'content': \"Yuvan Shankar Raja, the son of legendary composer Ilaiyaraaja, took the industry by storm with his unique musical style and groundbreaking compositions. This article delves into Yuvan's journey from a budding composer to one of Tamil cinema's most influential music icons, exploring how he revolutionized the sound of an entire industry. One of Yuvan's key contributions to Tamil music is his innovative blend of Western and Indian musical elements. Yuvan's talent for crafting love ballads and melancholic tunes added a new dimension to Tamil cinema music. Yuvan has also been instrumental in bringing independent and indie music into Tamil cinema, working with lesser-known vocalists and lyricists to create unique sounds. Yuvan Shankar Raja's evolution as a composer has had a lasting impact on Tamil cinema and South Indian music.\",\n",
       "   'score': 0.7557276,\n",
       "   'raw_content': None},\n",
       "  {'url': 'https://in.bookmyshow.com/person/yuvan-shankar-raja/2551',\n",
       "   'title': 'Yuvan Shankar Raja - Movies, Biography, News, Age & Photos',\n",
       "   'content': 'One of the most versatile music composers of South Indian cinema, Yuvan Shankar Raja is an Indian film score and soundtrack composer, singer, and lyricist who predominantly works in the Tamil film industry. The youngest son of the acclaimed music composer Ilaiyaraaja, Yuvan Shankar began his career when he was only 16: making his debut with the movie Aravindhan (1997). Apart from composing for movies, Yuvan Shankar has also made several personal music albums. - Yuvan Shankar Raja is the first Indian composer to win the Cyprus International Film Festival Award for the movie Raam (2006). - Yuvan Shankar Raja was 25 when he won the Best Music Direction Award for the movie 7G Rainbow: at the the time he was the youngest recipient of the award.',\n",
       "   'score': 0.71687365,\n",
       "   'raw_content': None},\n",
       "  {'url': 'https://www.imdb.com/name/nm1421776/',\n",
       "   'title': 'Yuvan Shankar Raja - IMDb',\n",
       "   'content': 'Yuvan Shankar Raja is an Indian film score and music composer and singer-songwriter. R. Murugadoss\\'s directorial debut in 2000, the action flick Dheena, starring Ajith Kumar, which went on to become a blockbuster and Yuvan Shankar Raja\\'s first major successful film and his background score was well apreciated. film festival making him the first indian to win that award.His compositons in the movie paiyaa gave him a huge fanbase equal to that of actors in indian film industr.He is often compared to oscar winning composer AR rahman And yuvan shankar raja is indeed an \" Young Maestro\". * When was Yuvan Shankar Raja born? * Where was Yuvan Shankar Raja born? * What is Yuvan Shankar Raja known for?',\n",
       "   'score': 0.69968605,\n",
       "   'raw_content': None}],\n",
       " 'response_time': 1.94,\n",
       " 'request_id': 'eda9fe1f-4039-49b6-9eab-c83ca37b70b3'}"
      ]
     },
     "execution_count": 10,
     "metadata": {},
     "output_type": "execute_result"
    }
   ],
   "source": [
    "response"
   ]
  },
  {
   "cell_type": "code",
   "execution_count": 12,
   "id": "6339568a",
   "metadata": {},
   "outputs": [
    {
     "name": "stdout",
     "output_type": "stream",
     "text": [
      "Yuvan Firose Khan is an Indian actor, who has appeared in Tamil language films. The son of director Feroze Khan, he made a breakthrough appearing in M. Abdul Haliq (born 31 August 1979), known professionally as, Yuvan Shankar Raja, is an Indian composer and playback singer. He mainly scores music for Tamil Yuvan Shankar Raja, the son of legendary composer Ilaiyaraaja, took the industry by storm with his unique musical style and groundbreaking compositions. This article delves into Yuvan's journey from a budding composer to one of Tamil cinema's most influential music icons, exploring how he revolutionized the sound of an entire industry. One of Yuvan's key contributions to Tamil music is his innovative blend of Western and Indian musical elements. Yuvan's talent for crafting love ballads and melancholic tunes added a new dimension to Tamil cinema music. Yuvan has also been instrumental in bringing independent and indie music into Tamil cinema, working with lesser-known vocalists and lyricists to create unique sounds. Yuvan Shankar Raja's evolution as a composer has had a lasting impact on Tamil cinema and South Indian music. One of the most versatile music composers of South Indian cinema, Yuvan Shankar Raja is an Indian film score and soundtrack composer, singer, and lyricist who predominantly works in the Tamil film industry. The youngest son of the acclaimed music composer Ilaiyaraaja, Yuvan Shankar began his career when he was only 16: making his debut with the movie Aravindhan (1997). Apart from composing for movies, Yuvan Shankar has also made several personal music albums. - Yuvan Shankar Raja is the first Indian composer to win the Cyprus International Film Festival Award for the movie Raam (2006). - Yuvan Shankar Raja was 25 when he won the Best Music Direction Award for the movie 7G Rainbow: at the the time he was the youngest recipient of the award. Yuvan Shankar Raja is an Indian film score and music composer and singer-songwriter. R. Murugadoss's directorial debut in 2000, the action flick Dheena, starring Ajith Kumar, which went on to become a blockbuster and Yuvan Shankar Raja's first major successful film and his background score was well apreciated. film festival making him the first indian to win that award.His compositons in the movie paiyaa gave him a huge fanbase equal to that of actors in indian film industr.He is often compared to oscar winning composer AR rahman And yuvan shankar raja is indeed an \" Young Maestro\". * When was Yuvan Shankar Raja born? * Where was Yuvan Shankar Raja born? * What is Yuvan Shankar Raja known for?\n"
     ]
    }
   ],
   "source": [
    "# Merge all 'content' fields into one string\n",
    "data = response\n",
    "merged_content = \" \".join(item['content'] for item in data['results'] if item.get('content'))\n",
    "\n",
    "print(merged_content)"
   ]
  },
  {
   "cell_type": "code",
   "execution_count": 3,
   "id": "32644fbf",
   "metadata": {},
   "outputs": [
    {
     "ename": "TypeError",
     "evalue": "'module' object is not callable",
     "output_type": "error",
     "traceback": [
      "\u001b[31m---------------------------------------------------------------------------\u001b[39m",
      "\u001b[31mTypeError\u001b[39m                                 Traceback (most recent call last)",
      "\u001b[36mCell\u001b[39m\u001b[36m \u001b[39m\u001b[32mIn[3]\u001b[39m\u001b[32m, line 3\u001b[39m\n\u001b[32m      1\u001b[39m \u001b[38;5;28;01mimport\u001b[39;00m\u001b[38;5;250m \u001b[39m\u001b[34;01mjson\u001b[39;00m\n\u001b[32m----> \u001b[39m\u001b[32m3\u001b[39m \u001b[43mjson\u001b[49m\u001b[43m(\u001b[49m\u001b[43mraw_str\u001b[49m\u001b[43m)\u001b[49m\n",
      "\u001b[31mTypeError\u001b[39m: 'module' object is not callable"
     ]
    }
   ],
   "source": [
    "import json\n",
    "\n",
    "json(raw_str)"
   ]
  },
  {
   "cell_type": "code",
   "execution_count": null,
   "id": "1d0e8377",
   "metadata": {},
   "outputs": [],
   "source": [
    "import json\n",
    "\n",
    "# Your Tavily response (example shortened here)\n",
    "raw_output = raw_str[\"content\"][0][\"text\"]\n",
    "\n",
    "# Step 1: Load the string into a dict (it's JSON but embedded as a string)\n",
    "parsed = json.loads(raw_output)\n",
    "\n",
    "# Step 2: Extract the structured content (also JSON inside a string!)\n",
    "structured = json.loads(parsed[\"structuredContent\"][\"result\"])\n",
    "\n",
    "# Now you have structured data\n",
    "answer = structured[\"answer\"]\n",
    "results = structured[\"results\"]\n",
    "\n",
    "print(\"Main Answer:\\n\", answer, \"\\n\")\n",
    "print(\"Results:\")\n",
    "for r in results:\n",
    "    print(\"-\", r[\"title\"], \":\", r[\"url\"])\n"
   ]
  },
  {
   "cell_type": "code",
   "execution_count": null,
   "id": "e21f2309",
   "metadata": {},
   "outputs": [
    {
     "ename": "SyntaxError",
     "evalue": "invalid character '·' (U+00B7) (<unknown>, line 2)",
     "output_type": "error",
     "traceback": [
      "Traceback \u001b[36m(most recent call last)\u001b[39m:\n",
      "  File \u001b[92mc:\\Users\\gvikr\\anaconda3\\envs\\agents\\Lib\\site-packages\\IPython\\core\\interactiveshell.py:3699\u001b[39m in \u001b[95mrun_code\u001b[39m\n    exec(code_obj, self.user_global_ns, self.user_ns)\n",
      "  Cell \u001b[92mIn[4]\u001b[39m\u001b[92m, line 7\u001b[39m\n    data = ast.literal_eval(wrapped_str)\n",
      "  File \u001b[92mc:\\Users\\gvikr\\anaconda3\\envs\\agents\\Lib\\ast.py:66\u001b[39m in \u001b[95mliteral_eval\u001b[39m\n    node_or_string = parse(node_or_string.lstrip(\" \\t\"), mode='eval')\n",
      "\u001b[36m  \u001b[39m\u001b[36mFile \u001b[39m\u001b[32mc:\\Users\\gvikr\\anaconda3\\envs\\agents\\Lib\\ast.py:52\u001b[39m\u001b[36m in \u001b[39m\u001b[35mparse\u001b[39m\n\u001b[31m    \u001b[39m\u001b[31mreturn compile(source, filename, mode, flags,\u001b[39m\n",
      "  \u001b[36mFile \u001b[39m\u001b[32m<unknown>:2\u001b[39m\n\u001b[31m    \u001b[39m\u001b[31mmeta=None content=[TextContent(type='text', text='{'query': 'who is Illayaraja?', 'follow_up_questions': None, 'answer': \"Ilaiyaraaja, born R. Gnanathesikan on June 2, 1943, is one of India's most celebrated musicians and composers, widely regarded as a maestro of Indian cinema music. He is a multi-talented artist who works as a composer, arranger, conductor, orchestrator, multi-instrumentalist, lyricist, and playback singer, with his work spanning predominantly Tamil cinema as well as Telugu, Malayalam, Kannada, and Hindi films. His exceptional contribution to Indian film music has earned him widespread recognition, including being voted as India's greatest music composer with 49% of votes in a CNN-IBN poll celebrating 100 years of Indian cinema in 2013. Ilaiyaraaja has a brother named Gangai Amaran, who is also a music director and lyricist in the Tamil film industry, and his consistent eclecticism and innovative approach have kept Tamil film music vibrant and relevant throughout his illustrious career.\", 'images': [], 'results': [{'url': 'https://en.wikipedia.org/wiki/Ilaiyaraaja', 'title': 'Ilaiyaraaja - Wikipedia', 'content': 'Ilaiyaraaja (born R. Gnanathesikan) is an Indian musician, composer, arranger, conductor, orchestrator, multi-instrumentalist, lyricist and playback singer popular for his works in Indian cinema, predominantly in Tamil in addition to Telugu, Malayalam, Kannada and Hindi films.', 'score': 0.9348309, 'raw_content': None}, {'url': 'https://www.quora.com/Who-is-Ilaiyaraaja-and-what-is-his-contribution-to-Indian-film-music', 'title': 'Who is Ilaiyaraaja and what is his contribution to Indian film music?', 'content': 'Ilayaraaja is one of the greatest and well known composers of the Indian Cinema. · He is a lyricist, singer, musician, arranger, conductor,', 'score': 0.89302075, 'raw_content': None}, {'url': 'https://www.youtube.com/watch?v=ZOF_vjHLcpg', 'title': 'Untold Story About Music Director Ilaiyaraja || Biography In Tamil', 'content': 'Ilaiyaraaja was born 2 June 1943 is an Indian film composer, singer, songwriter, instrumentalist, orchestrator, conductor-arranger and', 'score': 0.8622012, 'raw_content': None}, {'url': 'https://simple.wikipedia.org/wiki/Ilaiyaraaja', 'title': 'Ilaiyaraaja - Simple English Wikipedia, the free encyclopedia', 'content': 'In a poll conducted by CNN-IBN\") celebrating 100 years of Indian cinema in 2013, Ilaiyaraaja was voted as the greatest music composer of India with a maximum of 49%. Ilaiyaraaja has a brother Gangai Amaran, who is also a music director and lyricist in Tamil film industry. 3. ↑ S. Theodore Baskaran \"Jnana To Gana: Consistent eclecticism has kept Tamil film music virile\" Archived 16 November 2010 at the Wayback Machine. 5. ↑ \"Ilaiyaraaja\\xa0— IMDb\". Directorate of Film Festivals at the Wayback Machine (archived 18 April 2007). 7. ↑ \"Ilaiyaraaja\". 8. ↑ THE WORLD\\'S TOP TEN Archived 30 March 2015 at the Wayback Machine, BBC World Service.com ↑ \"NTR is the greatest Indian actor: Times Of India\".', 'score': 0.7355091, 'raw_content': None}, {'url': 'https://www.reddit.com/r/kollywood/comments/16g07z7/how_the_sun_set_on_maestro_ilayaraja/', 'title': 'HOW THE SUN SET ON MAESTRO ILAYARAJA : r/kollywood - Reddit', 'content': 'The most under rated film personality in the history of Tamil cinema. He is an underrated director, music director and super under rated', 'score': 0.6959795, 'raw_content': None}], 'response_time': 6.14, 'request_id': '135b99cf-aa4e-41a9-96b9-b3b1056411b3'}', annotations=None, meta=None)] structuredContent={'result': '{'query': 'who is Illayaraja?', 'follow_up_questions': None, 'answer': \"Ilaiyaraaja, born R. Gnanathesikan on June 2, 1943, is one of India's most celebrated musicians and composers, widely regarded as a maestro of Indian cinema music. He is a multi-talented artist who works as a composer, arranger, conductor, orchestrator, multi-instrumentalist, lyricist, and playback singer, with his work spanning predominantly Tamil cinema as well as Telugu, Malayalam, Kannada, and Hindi films. His exceptional contribution to Indian film music has earned him widespread recognition, including being voted as India's greatest music composer with 49% of votes in a CNN-IBN poll celebrating 100 years of Indian cinema in 2013. Ilaiyaraaja has a brother named Gangai Amaran, who is also a music director and lyricist in the Tamil film industry, and his consistent eclecticism and innovative approach have kept Tamil film music vibrant and relevant throughout his illustrious career.\", 'images': [], 'results': [{'url': 'https://en.wikipedia.org/wiki/Ilaiyaraaja', 'title': 'Ilaiyaraaja - Wikipedia', 'content': 'Ilaiyaraaja (born R. Gnanathesikan) is an Indian musician, composer, arranger, conductor, orchestrator, multi-instrumentalist, lyricist and playback singer popular for his works in Indian cinema, predominantly in Tamil in addition to Telugu, Malayalam, Kannada and Hindi films.', 'score': 0.9348309, 'raw_content': None}, {'url': 'https://www.quora.com/Who-is-Ilaiyaraaja-and-what-is-his-contribution-to-Indian-film-music', 'title': 'Who is Ilaiyaraaja and what is his contribution to Indian film music?', 'content': 'Ilayaraaja is one of the greatest and well known composers of the Indian Cinema. · He is a lyricist, singer, musician, arranger, conductor,', 'score': 0.89302075, 'raw_content': None}, {'url': 'https://www.youtube.com/watch?v=ZOF_vjHLcpg', 'title': 'Untold Story About Music Director Ilaiyaraja || Biography In Tamil', 'content': 'Ilaiyaraaja was born 2 June 1943 is an Indian film composer, singer, songwriter, instrumentalist, orchestrator, conductor-arranger and', 'score': 0.8622012, 'raw_content': None}, {'url': 'https://simple.wikipedia.org/wiki/Ilaiyaraaja', 'title': 'Ilaiyaraaja - Simple English Wikipedia, the free encyclopedia', 'content': 'In a poll conducted by CNN-IBN\") celebrating 100 years of Indian cinema in 2013, Ilaiyaraaja was voted as the greatest music composer of India with a maximum of 49%. Ilaiyaraaja has a brother Gangai Amaran, who is also a music director and lyricist in Tamil film industry. 3. ↑ S. Theodore Baskaran \"Jnana To Gana: Consistent eclecticism has kept Tamil film music virile\" Archived 16 November 2010 at the Wayback Machine. 5. ↑ \"Ilaiyaraaja\\xa0— IMDb\". Directorate of Film Festivals at the Wayback Machine (archived 18 April 2007). 7. ↑ \"Ilaiyaraaja\". 8. ↑ THE WORLD\\'S TOP TEN Archived 30 March 2015 at the Wayback Machine, BBC World Service.com ↑ \"NTR is the greatest Indian actor: Times Of India\".', 'score': 0.7355091, 'raw_content': None}, {'url': 'https://www.reddit.com/r/kollywood/comments/16g07z7/how_the_sun_set_on_maestro_ilayaraja/', 'title': 'HOW THE SUN SET ON MAESTRO ILAYARAJA : r/kollywood - Reddit', 'content': 'The most under rated film personality in the history of Tamil cinema. He is an underrated director, music director and super under rated', 'score': 0.6959795, 'raw_content': None}], 'response_time': 6.14, 'request_id': '135b99cf-aa4e-41a9-96b9-b3b1056411b3'}'} isError=False\u001b[39m\n                                                                                                                                                                                                                                                                                                                                                                                                                                                                                                                                                                                                                                                                                                                                                                                                                                                                                                                                                                                                                                                                                                                                                                                                                                                                                                                                                                                                                                                                                                                                                                                                                                                                                                                                                                                                                         ^\n\u001b[31mSyntaxError\u001b[39m\u001b[31m:\u001b[39m invalid character '·' (U+00B7)\n"
     ]
    }
   ],
   "source": [
    "# import ast\n",
    "\n",
    "# # Step 1: Wrap in a list (since it's multiple dicts separated by commas)\n",
    "# wrapped_str = f\"[{raw_str}]\"\n",
    "\n",
    "# # Step 2: Convert string to Python objects\n",
    "# data = ast.literal_eval(wrapped_str)\n",
    "\n",
    "# # Step 3: Extract and merge contents\n",
    "# merged_content = \"\\n\".join(item[\"content\"] for item in data if \"content\" in item)\n",
    "\n",
    "# print(\"=== MERGED CONTENT ===\")\n",
    "# print(merged_content)\n",
    "\n",
    "# # Step 4: Now you can send `merged_content` to your LLM for summarization\n",
    "# # Example with OpenAI API (pseudo-code)\n",
    "# \"\"\"\n",
    "# from openai import OpenAI\n",
    "# client = OpenAI()\n",
    "\n",
    "# response = client.chat.completions.create(\n",
    "#     model=\"gpt-5\",\n",
    "#     messages=[\n",
    "#         {\"role\": \"system\", \"content\": \"Summarize the following information about Yuvan Shankar Raja:\"},\n",
    "#         {\"role\": \"user\", \"content\": merged_content}\n",
    "#     ]\n",
    "# )\n",
    "\n",
    "# print(response.choices[0].message[\"content\"])\n",
    "# \"\"\"\n"
   ]
  },
  {
   "cell_type": "code",
   "execution_count": null,
   "id": "abbdb35e",
   "metadata": {},
   "outputs": [],
   "source": []
  }
 ],
 "metadata": {
  "kernelspec": {
   "display_name": "agents",
   "language": "python",
   "name": "python3"
  },
  "language_info": {
   "codemirror_mode": {
    "name": "ipython",
    "version": 3
   },
   "file_extension": ".py",
   "mimetype": "text/x-python",
   "name": "python",
   "nbconvert_exporter": "python",
   "pygments_lexer": "ipython3",
   "version": "3.12.11"
  }
 },
 "nbformat": 4,
 "nbformat_minor": 5
}
